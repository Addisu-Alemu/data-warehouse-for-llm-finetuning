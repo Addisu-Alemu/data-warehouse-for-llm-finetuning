{
 "cells": [
  {
   "cell_type": "code",
   "execution_count": 6,
   "metadata": {},
   "outputs": [
    {
     "name": "stdout",
     "output_type": "stream",
     "text": [
      "['▁በስተቀር', '▁የትኛው', 'ም', '▁አውሬ', '▁አያ', 'ደርገው', 'ም']\n",
      "[1038, 1421, 5, 1343, 422, 898, 5]\n"
     ]
    }
   ],
   "source": [
    "import sentencepiece as spm\n",
    "\n",
    "# train sentencepiece model from `botchan.txt` and makes `m.model` and `m.vocab`\n",
    "# `m.vocab` is just a reference. not used in the segmentation.\n",
    "spm.SentencePieceTrainer.train('--input=amharic.txt --model_prefix=m --vocab_size=2000')\n",
    "\n",
    "# makes segmenter instance and loads the model file (m.model)\n",
    "sp = spm.SentencePieceProcessor()\n",
    "sp.load('m.model')\n",
    "\n",
    "# encode: text => id\n",
    "print(sp.encode_as_pieces('በስተቀር የትኛውም አውሬ አያደርገውም'))\n",
    "print(sp.encode_as_ids('በስተቀር የትኛውም አውሬ አያደርገውም'))"
   ]
  },
  {
   "cell_type": "markdown",
   "metadata": {},
   "source": [
    "## Train sentencePiece for Amharic using BPE (Byte Pair Encoding)"
   ]
  },
  {
   "cell_type": "code",
   "execution_count": 12,
   "metadata": {},
   "outputs": [
    {
     "data": {
      "text/plain": [
       "['▁በስተቀር', '▁የትኛውም', '▁አውሬ', '▁አያ', 'ደርገው', 'ም']"
      ]
     },
     "execution_count": 12,
     "metadata": {},
     "output_type": "execute_result"
    }
   ],
   "source": [
    "\n",
    "spm.SentencePieceTrainer.train(input=\"amharic.txt\", model_prefix='am-bpe', vocab_size=16000, model_type=\"bpe\", character_coverage=1.0)\n",
    "\n",
    "model = spm.SentencePieceProcessor(model_file='am-bpe.model')\n",
    "model.encode('በስተቀር የትኛውም አውሬ አያደርገውም', out_type=str)\n"
   ]
  },
  {
   "cell_type": "markdown",
   "metadata": {},
   "source": [
    "## Train sentencePiece for Amharic using Unigram."
   ]
  },
  {
   "cell_type": "code",
   "execution_count": 18,
   "metadata": {},
   "outputs": [
    {
     "data": {
      "text/plain": [
       "['▁በስተቀር', '▁የ', 'ት', 'ኛ', 'ው', 'ም', '▁አ', 'ው', 'ሬ', '▁አ', 'ያ', 'ደርገው', 'ም']"
      ]
     },
     "execution_count": 18,
     "metadata": {},
     "output_type": "execute_result"
    }
   ],
   "source": [
    "spm.SentencePieceTrainer.train(input=\"amharic.txt\", model_prefix='am-unigram', vocab_size=1000, model_type=\"unigram\", character_coverage=1.0)\n",
    "model = spm.SentencePieceProcessor(model_file='am-unigram.model')\n",
    "model.encode('በስተቀር የትኛውም አውሬ አያደርገውም', out_type=str)\n",
    "sp.load('am-unigram.model')"
   ]
  },
  {
   "cell_type": "markdown",
   "metadata": {},
   "source": [
    "## Train sentencePiece for Amharic using words"
   ]
  },
  {
   "cell_type": "code",
   "execution_count": 19,
   "metadata": {},
   "outputs": [
    {
     "data": {
      "text/plain": [
       "['▁በስተቀር', '▁የትኛውም', '▁አውሬ', '▁አያደርገውም']"
      ]
     },
     "execution_count": 19,
     "metadata": {},
     "output_type": "execute_result"
    }
   ],
   "source": [
    "spm.SentencePieceTrainer.train(input=\"amharic.txt\", model_prefix='am-word', vocab_size=16000, model_type=\"word\", character_coverage=1.0)\n",
    "model = spm.SentencePieceProcessor(model_file='am-word.model')\n",
    "model.encode('በስተቀር የትኛውም አውሬ አያደርገውም', out_type=str)\n"
   ]
  }
 ],
 "metadata": {
  "kernelspec": {
   "display_name": "Python 3",
   "language": "python",
   "name": "python3"
  },
  "language_info": {
   "codemirror_mode": {
    "name": "ipython",
    "version": 3
   },
   "file_extension": ".py",
   "mimetype": "text/x-python",
   "name": "python",
   "nbconvert_exporter": "python",
   "pygments_lexer": "ipython3",
   "version": "3.11.5"
  }
 },
 "nbformat": 4,
 "nbformat_minor": 2
}
